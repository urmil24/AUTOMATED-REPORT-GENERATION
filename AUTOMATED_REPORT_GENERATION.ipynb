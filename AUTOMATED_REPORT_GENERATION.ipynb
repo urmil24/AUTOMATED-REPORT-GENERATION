{
  "nbformat": 4,
  "nbformat_minor": 0,
  "metadata": {
    "colab": {
      "provenance": [],
      "authorship_tag": "ABX9TyPHeVOYk9WM1fYNgaItD+Zg",
      "include_colab_link": true
    },
    "kernelspec": {
      "name": "python3",
      "display_name": "Python 3"
    },
    "language_info": {
      "name": "python"
    }
  },
  "cells": [
    {
      "cell_type": "markdown",
      "metadata": {
        "id": "view-in-github",
        "colab_type": "text"
      },
      "source": [
        "<a href=\"https://colab.research.google.com/github/urmil24/AUTOMATED-REPORT-GENERATION/blob/main/AUTOMATED_REPORT_GENERATION.ipynb\" target=\"_parent\"><img src=\"https://colab.research.google.com/assets/colab-badge.svg\" alt=\"Open In Colab\"/></a>"
      ]
    },
    {
      "cell_type": "code",
      "source": [
        "# ================= Install Required Libraries ==================\n",
        "!pip install kagglehub fpdf matplotlib --quiet\n",
        "\n",
        "# ================= Import Required Libraries ===================\n",
        "import pandas as pd\n",
        "import matplotlib.pyplot as plt\n",
        "from fpdf import FPDF\n",
        "import kagglehub\n",
        "from kagglehub import KaggleDatasetAdapter\n",
        "\n",
        "# ================= Load Kaggle Dataset =========================\n",
        "df = kagglehub.load_dataset(\n",
        "    KaggleDatasetAdapter.PANDAS,\n",
        "    \"jacksoncrow/stock-market-dataset\",\n",
        "    \"stocks/AAPL.csv\"\n",
        ")\n",
        "\n",
        "# ================= Preprocess the Data =========================\n",
        "df['Date'] = pd.to_datetime(df['Date'])        # Convert Date column to datetime\n",
        "df.sort_values('Date', inplace=True)           # Sort the data by Date\n",
        "\n",
        "# ================= Perform Basic Analysis ======================\n",
        "latest_data = df.tail(1)\n",
        "average_close = df['Close'].mean()\n",
        "max_close = df['Close'].max()\n",
        "min_close = df['Close'].min()\n",
        "total_volume = df['Volume'].sum()\n",
        "\n",
        "# ================= Moving Average Calculation ==================\n",
        "df['MA20'] = df['Close'].rolling(window=20).mean()\n",
        "df['MA50'] = df['Close'].rolling(window=50).mean()\n",
        "\n",
        "# ================= Save Line Chart of Price and MAs ============\n",
        "plt.figure(figsize=(10, 5))\n",
        "plt.plot(df['Date'], df['Close'], label='Close Price', color='blue')\n",
        "plt.plot(df['Date'], df['MA20'], label='20-day MA', color='orange')\n",
        "plt.plot(df['Date'], df['MA50'], label='50-day MA', color='green')\n",
        "plt.title(\"AAPL Stock Prices with Moving Averages\")\n",
        "plt.xlabel(\"Date\")\n",
        "plt.ylabel(\"Price\")\n",
        "plt.legend()\n",
        "plt.tight_layout()\n",
        "plt.savefig(\"aapl_price_chart.png\")\n",
        "plt.close()\n",
        "\n",
        "# ================= Save Bar Chart of Volume =====================\n",
        "plt.figure(figsize=(10, 4))\n",
        "plt.bar(df.tail(10)['Date'].dt.strftime('%Y-%m-%d'), df.tail(10)['Volume'], color='purple')\n",
        "plt.xticks(rotation=45)\n",
        "plt.title(\"AAPL - Volume (Last 10 Days)\")\n",
        "plt.xlabel(\"Date\")\n",
        "plt.ylabel(\"Volume\")\n",
        "plt.tight_layout()\n",
        "plt.savefig(\"aapl_volume_chart.png\")\n",
        "plt.close()\n",
        "\n",
        "# ==================== PDF Report Class ==========================\n",
        "class PDF(FPDF):\n",
        "    def header(self):\n",
        "        self.set_font(\"Arial\", \"B\", 14)\n",
        "        self.cell(0, 10, \"AAPL Stock Market Report\", ln=True, align=\"C\")\n",
        "        self.ln(5)\n",
        "\n",
        "    def footer(self):\n",
        "        self.set_y(-15)\n",
        "        self.set_font(\"Arial\", \"I\", 10)\n",
        "        self.cell(0, 10, f\"Page {self.page_no()}\", align=\"C\")\n",
        "\n",
        "    def add_stats(self, avg, max_, min_, volume, latest_row):\n",
        "        self.set_font(\"Arial\", \"\", 12)\n",
        "        self.cell(0, 10, f\"Average Close Price: ${avg:.2f}\", ln=True)\n",
        "        self.cell(0, 10, f\"Highest Close Price: ${max_:.2f}\", ln=True)\n",
        "        self.cell(0, 10, f\"Lowest Close Price: ${min_:.2f}\", ln=True)\n",
        "        self.cell(0, 10, f\"Total Volume Traded: {int(volume):,}\", ln=True)\n",
        "        date_str = latest_row['Date'].dt.date.values[0]\n",
        "        price_str = latest_row['Close'].values[0]\n",
        "        self.cell(0, 10, f\"Most Recent Close: ${price_str:.2f} on {date_str}\", ln=True)\n",
        "        self.ln(10)\n",
        "\n",
        "    def add_table(self, data):\n",
        "        self.set_font(\"Arial\", \"B\", 12)\n",
        "        self.cell(40, 10, \"Date\", border=1)\n",
        "        self.cell(40, 10, \"Open\", border=1)\n",
        "        self.cell(40, 10, \"Close\", border=1)\n",
        "        self.cell(40, 10, \"Volume\", border=1)\n",
        "        self.ln()\n",
        "        self.set_font(\"Arial\", \"\", 11)\n",
        "        for _, row in data.iterrows():\n",
        "            self.cell(40, 10, str(row[\"Date\"].date()), border=1)\n",
        "            self.cell(40, 10, f\"{row['Open']:.2f}\", border=1)\n",
        "            self.cell(40, 10, f\"{row['Close']:.2f}\", border=1)\n",
        "            self.cell(40, 10, f\"{int(row['Volume']):,}\", border=1)\n",
        "            self.ln()\n",
        "\n",
        "    def add_image(self, path, title):\n",
        "        self.set_font(\"Arial\", \"B\", 12)\n",
        "        self.cell(0, 10, title, ln=True)\n",
        "        self.image(path, w=180)\n",
        "        self.ln(10)\n",
        "\n",
        "# =================== Generate PDF Report ========================\n",
        "pdf = PDF()\n",
        "pdf.add_page()\n",
        "pdf.add_stats(average_close, max_close, min_close, total_volume, latest_data)\n",
        "pdf.add_image(\"aapl_price_chart.png\", \"Stock Price with Moving Averages\")\n",
        "pdf.add_image(\"aapl_volume_chart.png\", \"Volume (Last 10 Days)\")\n",
        "pdf.add_table(df.tail(10))  # Last 10 records\n",
        "\n",
        "# =================== Save PDF File ==============================\n",
        "pdf.output(\"aapl_stock_report.pdf\")\n",
        "\n",
        "print(\"PDF report generated successfully: 'aapl_stock_report.pdf'\")\n"
      ],
      "metadata": {
        "colab": {
          "base_uri": "https://localhost:8080/"
        },
        "id": "WEvzncaJn8kE",
        "outputId": "10d17986-a1b4-4f56-9370-fa1cdb3f883b"
      },
      "execution_count": 4,
      "outputs": [
        {
          "output_type": "stream",
          "name": "stderr",
          "text": [
            "<ipython-input-4-1023751404>:12: DeprecationWarning: load_dataset is deprecated and will be removed in a future version.\n",
            "  df = kagglehub.load_dataset(\n"
          ]
        },
        {
          "output_type": "stream",
          "name": "stdout",
          "text": [
            "PDF report generated successfully: 'aapl_stock_report.pdf'\n"
          ]
        }
      ]
    }
  ]
}